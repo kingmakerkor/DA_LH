{
 "cells": [
  {
   "cell_type": "markdown",
   "metadata": {},
   "source": [
    "1. 클래스와 인스턴스에 대해 설명해주세요.\n",
    "- 클래스(Class) : 인스턴스를 만드는 틀\n",
    "- 인스턴스(Instance) : 클래스를 통해 만들어지는 객체\n",
    "\n",
    "2. 정적 메소드는 무엇이고, 어떻게 호출하나요?\n",
    "- 메서드 : Class 안에 사용되는 함수\n",
    "- 메서드 종류 : 인스턴스 메서드, 정적 메서드, 클래스 메서드\n",
    "- 정적 메서드 :\n",
    "- 정적 메서드를 선언하여 사용하는 이유 \n",
    "Class 안에 비슷한 종류의 기능을 처리하는 함수를 모아두고 싶을 때\n",
    "Class 실행을 도와주는 유용한 유틸 기능을 구현할 때\n",
    "인스턴스 속성, 인스턴스 메서드가 필요 없을 때 "
   ]
  },
  {
   "cell_type": "markdown",
   "metadata": {},
   "source": [
    "정적메서드 구현할 때 @staticmethod 데코레이터 정의\n",
    "\n",
    "@staticmethod\n",
    "    def hello():\n",
    "        print('오늘도 안전운전!!!')"
   ]
  },
  {
   "cell_type": "code",
   "execution_count": 1,
   "metadata": {},
   "outputs": [
    {
     "name": "stdout",
     "output_type": "stream",
     "text": [
      "오늘도 안전운전!!!\n",
      "오늘도 안전운전!!!\n"
     ]
    }
   ],
   "source": [
    "class Car:\n",
    "    @staticmethod\n",
    "    def hello():\n",
    "        print('오늘도 안전운전!!!')\n",
    "    \n",
    "    count = 0 # class variable\n",
    "    \n",
    "    # 생성자 \n",
    "    def __init__(self, name):\n",
    "        self.name = name\n",
    "        Car.count += 1\n",
    "    \n",
    "    @classmethod\n",
    "    def outcount(cls):\n",
    "        print(cls.count)\n",
    "    \n",
    "Car.hello()  # 출력물: 오늘도 안전운전!!!\n",
    "\n",
    "i30 = Car('i30')\n",
    "i30.hello()  # 출력물: 오늘도 안전운전!!!"
   ]
  },
  {
   "cell_type": "markdown",
   "metadata": {},
   "source": [
    "클래스에 포함되어 있으므로 호출할 때는 클래스명.메서드() 식으로 호출한다.\n",
    "\n",
    "Car.hello()"
   ]
  }
 ],
 "metadata": {
  "kernelspec": {
   "display_name": "Python 3",
   "language": "python",
   "name": "python3"
  },
  "language_info": {
   "codemirror_mode": {
    "name": "ipython",
    "version": 3
   },
   "file_extension": ".py",
   "mimetype": "text/x-python",
   "name": "python",
   "nbconvert_exporter": "python",
   "pygments_lexer": "ipython3",
   "version": "3.6.8"
  }
 },
 "nbformat": 4,
 "nbformat_minor": 2
}
